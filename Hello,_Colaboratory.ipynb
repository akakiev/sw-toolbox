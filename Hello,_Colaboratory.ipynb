{
  "nbformat": 4,
  "nbformat_minor": 0,
  "metadata": {
    "colab": {
      "name": "Hello, Colaboratory",
      "version": "0.3.2",
      "provenance": [],
      "collapsed_sections": [],
      "toc_visible": true,
      "include_colab_link": true
    },
    "kernelspec": {
      "display_name": "Python 3",
      "name": "python3"
    }
  },
  "cells": [
    {
      "cell_type": "markdown",
      "metadata": {
        "id": "view-in-github",
        "colab_type": "text"
      },
      "source": [
        "[View in Colaboratory](https://colab.research.google.com/github/akakiev/sw-toolbox/blob/master/Hello,_Colaboratory.ipynb)"
      ]
    },
    {
      "metadata": {
        "id": "9J7p406abzgl",
        "colab_type": "text"
      },
      "cell_type": "markdown",
      "source": [
        "<img height=\"60px\" src=\"https://colab.research.google.com/img/colab_favicon.ico\" align=\"left\" hspace=\"20px\" vspace=\"5px\">\n",
        "\n",
        "## Welcome to Colaboratory!\n",
        "\n",
        "Colaboratory is a free Jupyter notebook environment that requires no setup and runs entirely in the cloud. See our [FAQ](https://research.google.com/colaboratory/faq.html) for more info."
      ]
    },
    {
      "metadata": {
        "id": "-Rh3-Vt9Nev9",
        "colab_type": "text"
      },
      "cell_type": "markdown",
      "source": [
        "## Getting Started\n",
        "- [Overview of Colaboratory](/notebooks/basic_features_overview.ipynb)\n",
        "- [Loading and saving data: Local files, Drive, Sheets, Google Cloud Storage](/notebooks/io.ipynb)\n",
        "- [Importing libraries and installing dependencies](/notebooks/snippets/importing_libraries.ipynb)\n",
        "- [Using Google Cloud BigQuery](/notebooks/bigquery.ipynb)\n",
        "- [Forms](/notebooks/forms.ipynb), [Charts](/notebooks/charts.ipynb), [Markdown](/notebooks/markdown_guide.ipynb), & [Widgets](/notebooks/widgets.ipynb)\n",
        "- [TensorFlow with GPU](/notebooks/gpu.ipynb)\n",
        "- [Machine Learning Crash Course](https://developers.google.com/machine-learning/crash-course/): [Intro to Pandas](/notebooks/mlcc/intro_to_pandas.ipynb) & [First Steps with TensorFlow](/notebooks/mlcc/first_steps_with_tensor_flow.ipynb)\n"
      ]
    },
    {
      "metadata": {
        "id": "1fr51oVCHRZU",
        "colab_type": "text"
      },
      "cell_type": "markdown",
      "source": [
        "## Highlighted Features\n",
        "### Seedbank\n",
        "\n",
        "Looking for Colab notebooks to learn from? Check out [Seedbank](https://tools.google.com/seedbank/), a place to discover interactive machine learning examples."
      ]
    },
    {
      "metadata": {
        "id": "9wi5kfGdhK0R",
        "colab_type": "text"
      },
      "cell_type": "markdown",
      "source": [
        "### TensorFlow execution"
      ]
    },
    {
      "metadata": {
        "id": "S9GW-n-oYWIj",
        "colab_type": "text"
      },
      "cell_type": "markdown",
      "source": [
        "Colaboratory allows you to execute TensorFlow code in your browser with a single click. The example below adds two matrices.\n",
        "\n",
        "$\\begin{bmatrix}\n",
        "  1. & 1. & 1. \\\\\n",
        "  1. & 1. & 1. \\\\\n",
        "\\end{bmatrix} +\n",
        "\\begin{bmatrix}\n",
        "  1. & 2. & 3. \\\\\n",
        "  4. & 5. & 6. \\\\\n",
        "\\end{bmatrix} =\n",
        "\\begin{bmatrix}\n",
        "  2. & 3. & 4. \\\\\n",
        "  5. & 6. & 7. \\\\\n",
        "\\end{bmatrix}$"
      ]
    },
    {
      "metadata": {
        "id": "oYZkU7ZN3CL0",
        "colab_type": "code",
        "colab": {
          "base_uri": "https://localhost:8080/",
          "height": 51
        },
        "outputId": "2e1abc57-3dd1-4d5c-eeca-e97a795dac4e"
      },
      "cell_type": "code",
      "source": [
        "import tensorflow as tf\n",
        "\n",
        "input1 = tf.ones((2, 3))\n",
        "input2 = tf.reshape(tf.range(1, 7, dtype=tf.float32), (2, 3))\n",
        "output = input1 + input2\n",
        "\n",
        "with tf.Session():\n",
        "  result = output.eval()\n",
        "result  "
      ],
      "execution_count": 1,
      "outputs": [
        {
          "output_type": "execute_result",
          "data": {
            "text/plain": [
              "array([[2., 3., 4.],\n",
              "       [5., 6., 7.]], dtype=float32)"
            ]
          },
          "metadata": {
            "tags": []
          },
          "execution_count": 1
        }
      ]
    },
    {
      "metadata": {
        "id": "nwYF0E3Sjiy4",
        "colab_type": "text"
      },
      "cell_type": "markdown",
      "source": [
        "### GitHub\n",
        "\n",
        "You can save a copy of your Colab notebook to Github by using File > Save a copy to GitHub…\n",
        "\n",
        "You can load any .ipynb on GitHub by just adding the path to colab.research.google.com/github/ . For example, [colab.research.google.com/github/tensorflow/models/blob/master/samples/core/get_started/_index.ipynb](https://colab.research.google.com/github/tensorflow/models/blob/master/samples/core/get_started/_index.ipynb) will load [this .ipynb](https://github.com/tensorflow/models/blob/master/samples/core/get_started/_index.ipynb) on GitHub.\n",
        "\n"
      ]
    },
    {
      "metadata": {
        "id": "yv2XIwi5hQ_g",
        "colab_type": "text"
      },
      "cell_type": "markdown",
      "source": [
        "### Visualization"
      ]
    },
    {
      "metadata": {
        "id": "rYs5mx2JZkmy",
        "colab_type": "text"
      },
      "cell_type": "markdown",
      "source": [
        "Colaboratory includes widely used libraries like [matplotlib](https://matplotlib.org/), simplifying visualization."
      ]
    },
    {
      "metadata": {
        "id": "xqrc5C-IaA5J",
        "colab_type": "code",
        "colab": {
          "base_uri": "https://localhost:8080/",
          "height": 347
        },
        "outputId": "7b7b1ed9-5261-40f3-96ae-4c10052607ee"
      },
      "cell_type": "code",
      "source": [
        "import matplotlib.pyplot as plt\n",
        "import numpy as np\n",
        "\n",
        "x = np.arange(20)\n",
        "y = [x_i + np.random.randn(1) for x_i in x]\n",
        "a, b = np.polyfit(x, y, 1)\n",
        "_ = plt.plot(x, y, 'o', np.arange(20), a*np.arange(20)+b, '-')"
      ],
      "execution_count": 2,
      "outputs": [
        {
          "output_type": "display_data",
          "data": {
            "image/png": "[encoded data removed]",
            "text/plain": [
              "<matplotlib.figure.Figure at 0x7f3547836588>"
            ]
          },
          "metadata": {
            "tags": []
          }
        }
      ]
    },
    {
      "metadata": {
        "id": "AN_LRQ9NkOjs",
        "colab_type": "text"
      },
      "cell_type": "markdown",
      "source": [
        "Want to use a new library?  `pip install` it at the top of the notebook. Then that library can be used anywhere else in the notebook. For recipes to import commonly used libraries, refer to the [importing libraries example notebook](/notebooks/snippets/importing_libraries.ipynb)."
      ]
    },
    {
      "metadata": {
        "id": "FlQq0SUepQbd",
        "colab_type": "code",
        "colab": {
          "base_uri": "https://localhost:8080/",
          "height": 349
        },
        "outputId": "6e404831-3336-4633-b76f-c6313ecdd356"
      },
      "cell_type": "code",
      "source": [
        "!pip install -q matplotlib-venn\n",
        "\n",
        "from matplotlib_venn import venn2\n",
        "_ = venn2(subsets = (3, 2, 1))"
      ],
      "execution_count": 0,
      "outputs": [
        {
          "output_type": "display_data",
          "data": {
            "image/png": "[encoded data removed]",
            "text/plain": [
              "<matplotlib.figure.Figure at 0x7f48ff99ff10>"
            ]
          },
          "metadata": {
            "tags": []
          }
        }
      ]
    },
    {
      "metadata": {
        "id": "LxZ3dPzYnyNF",
        "colab_type": "text"
      },
      "cell_type": "markdown",
      "source": [
        "### Forms\n",
        "\n",
        "Forms can be used to parameterize code. See the [forms example notebook](/notebooks/forms.ipynb) for more details."
      ]
    },
    {
      "metadata": {
        "id": "FQ_Hx_9tn7uF",
        "colab_type": "code",
        "colab": {}
      },
      "cell_type": "code",
      "source": [
        "#@title Examples\n",
        "\n",
        "text = 'value' #@param \n",
        "date_input = '2018-03-22' #@param {type:\"date\"}\n",
        "number_slider = 0 #@param {type:\"slider\", min:-1, max:1, step:0.1}\n",
        "dropdown = '1st option' #@param [\"1st option\", \"2nd option\", \"3rd option\"]\n"
      ],
      "execution_count": 0,
      "outputs": []
    },
    {
      "metadata": {
        "id": "55i8lN78LSwZ",
        "colab_type": "code",
        "colab": {
          "base_uri": "https://localhost:8080/",
          "height": 343
        },
        "outputId": "082565fa-fba1-4f0e-bf93-d0f964345d6a"
      },
      "cell_type": "code",
      "source": [
        "import pandas as pd\n",
        "!mkdir drive\n",
        "!wget 'https://drive.google.com/uc?id=1nlTTlDYQKnhBDYsf0OIkGysZxjadWeTv&export=download' -O drive/exams.csv\n",
        "exams = pd.read_csv('drive/exams.csv')\n",
        "exams.head(15)\n",
        "def split_data(data):\n",
        "  training = []\n",
        "  evaluation = []\n",
        "  validation = []\n",
        "  for (index, row) in enumerate(data.values):\n",
        "    ind = index % 10\n",
        "    if ind < 6:\n",
        "      training.append(row)\n",
        "    elif ind < 8:\n",
        "      evaluation.append(row)\n",
        "    else:\n",
        "      validation.append(row)\n",
        "  return (pd.DataFrame(training, columns = data.columns),\n",
        "         pd.DataFrame(evaluation, columns = data.columns),\n",
        "         pd.DataFrame(validation, columns = data.columns))\n",
        "training_data, evaluation_data, validation_data = split_data(exams)"
      ],
      "execution_count": 11,
      "outputs": [
        {
          "output_type": "stream",
          "text": [
            "mkdir: cannot create directory ‘drive’: File exists\n",
            "--2018-08-06 12:33:57--  https://drive.google.com/uc?id=1nlTTlDYQKnhBDYsf0OIkGysZxjadWeTv&export=download\n",
            "Resolving drive.google.com (drive.google.com)... 74.125.197.102, 74.125.197.139, 74.125.197.138, ...\n",
            "Connecting to drive.google.com (drive.google.com)|74.125.197.102|:443... connected.\n",
            "HTTP request sent, awaiting response... 302 Moved Temporarily\n",
            "Location: https://doc-08-5c-docs.googleusercontent.com/docs/securesc/ha0ro937gcuc7l7deffksulhg5h7mbp1/v6c1l1sfkjk98fggdga5i2o076v2aq3u/1533556800000/01333786639642341364/*/1nlTTlDYQKnhBDYsf0OIkGysZxjadWeTv?e=download [following]\n",
            "Warning: wildcards not supported in HTTP.\n",
            "--2018-08-06 12:33:57--  https://doc-08-5c-docs.googleusercontent.com/docs/securesc/ha0ro937gcuc7l7deffksulhg5h7mbp1/v6c1l1sfkjk98fggdga5i2o076v2aq3u/1533556800000/01333786639642341364/*/1nlTTlDYQKnhBDYsf0OIkGysZxjadWeTv?e=download\n",
            "Resolving doc-08-5c-docs.googleusercontent.com (doc-08-5c-docs.googleusercontent.com)... 108.177.98.132, 2607:f8b0:400e:c06::84\n",
            "Connecting to doc-08-5c-docs.googleusercontent.com (doc-08-5c-docs.googleusercontent.com)|108.177.98.132|:443... connected.\n",
            "HTTP request sent, awaiting response... 200 OK\n",
            "Length: 41401 (40K) [text/csv]\n",
            "Saving to: ‘drive/exams.csv’\n",
            "\n",
            "drive/exams.csv     100%[===================>]  40.43K  --.-KB/s    in 0.001s  \n",
            "\n",
            "2018-08-06 12:33:57 (58.3 MB/s) - ‘drive/exams.csv’ saved [41401/41401]\n",
            "\n"
          ],
          "name": "stdout"
        }
      ]
    },
    {
      "metadata": {
        "id": "rTX3heEtu0b2",
        "colab_type": "text"
      },
      "cell_type": "markdown",
      "source": [
        "### Local runtime support\n",
        "\n",
        "Colab  supports connecting to a Jupyter runtime on your local machine. For more information, see our [documentation](https://research.google.com/colaboratory/local-runtimes.html)."
      ]
    }
  ]
}